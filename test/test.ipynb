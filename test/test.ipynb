{
 "cells": [
  {
   "cell_type": "code",
   "execution_count": 3,
   "metadata": {},
   "outputs": [
    {
     "name": "stdout",
     "output_type": "stream",
     "text": [
      "[  8   4 200]\n",
      "Khoảng cách Euclide: 188.61\n",
      "[  8   6 350]\n",
      "Khoảng cách Euclide: 38.71\n",
      "[  9   7 650]\n",
      "Khoảng cách Euclide: 261.44\n",
      "[ 10   5 400]\n",
      "Khoảng cách Euclide: 11.55\n",
      "[ 11   4 320]\n",
      "Khoảng cách Euclide: 68.60\n",
      "[ 11   8 250]\n",
      "Khoảng cách Euclide: 138.58\n",
      "[ 12   6 600]\n",
      "Khoảng cách Euclide: 211.43\n",
      "[ 12   7 300]\n",
      "Khoảng cách Euclide: 88.58\n",
      "[ 14   5 200]\n",
      "Khoảng cách Euclide: 188.59\n",
      "[ 11   6 450]\n",
      "Khoảng cách Euclide: 61.43\n"
     ]
    }
   ],
   "source": [
    "import numpy as np\n",
    "\n",
    "\n",
    "def euclidean_distance(point1, point2):\n",
    "    # Kiểm tra số chiều của hai điểm\n",
    "    assert len(point1) == len(point2), \"Số chiều của hai điểm phải bằng nhau.\"\n",
    "\n",
    "    # Tính khoảng cách Euclide\n",
    "    distance = np.sqrt(np.sum((point2 - point1)**2))\n",
    "    return distance\n",
    "\n",
    "\n",
    "# Ví dụ: Tính khoảng cách Euclide giữa hai điểm trong không gian ba chiều\n",
    "point1 = np.array([8, 4, 200])\n",
    "point2 = np.array([8, 6, 350])\n",
    "point3 = np.array([11.29, 6, 388.57])\n",
    "\n",
    "arr = np.array([[8, 4, 200], [8, 6, 350], [9, 7, 650], [10, 5, 400], [\n",
    "    11, 4, 320], [11, 8, 250], [12, 6, 600], [12, 7, 300] ,[14, 5, 200],[11,6,450]])\n",
    "for i in arr:\n",
    "    print(i)\n",
    "    distance = euclidean_distance(i, point3)\n",
    "    distance = \"{:.2f}\".format(distance) \n",
    "    print(\"Khoảng cách Euclide:\", distance)\n"
   ]
  },
  {
   "cell_type": "code",
   "execution_count": 84,
   "metadata": {},
   "outputs": [
    {
     "ename": "SyntaxError",
     "evalue": "invalid syntax (3877248627.py, line 1)",
     "output_type": "error",
     "traceback": [
      "\u001b[1;36m  Cell \u001b[1;32mIn[84], line 1\u001b[1;36m\u001b[0m\n\u001b[1;33m    def average_of_matrices(matrix1, matrix2, matrix3, matrix4 or np.([0,0,0])):\u001b[0m\n\u001b[1;37m                                                               ^\u001b[0m\n\u001b[1;31mSyntaxError\u001b[0m\u001b[1;31m:\u001b[0m invalid syntax\n"
     ]
    }
   ],
   "source": [
    "def average_of_matrices(matrix1, matrix2, matrix3, matrix4):\n",
    "    # Kiểm tra kích thước của các ma trận\n",
    "    # assert matrix1.shape == matrix2.shape == matrix3.shape, \"Các ma trận phải có cùng kích thước.\"\n",
    "\n",
    "    # Cộng các ma trận lại và tính giá trị trung bình\n",
    "    sum_matrix = matrix1 + matrix2 + matrix3 + matrix4\n",
    "    average_matrix = sum_matrix / 2\n",
    "    if(matrix3):\n",
    "        average_matrix = sum_matrix / 3\n",
    "    if(matrix4): \n",
    "        average_matrix = sum_matrix / 4\n",
    "    # average_matrix= \"{:.2f}\".format(distance) \n",
    "\n",
    "    return average_matrix "
   ]
  },
  {
   "cell_type": "code",
   "execution_count": 70,
   "metadata": {},
   "outputs": [
    {
     "name": "stdout",
     "output_type": "stream",
     "text": [
      "[ 14   5 200]\n",
      "Ma trận trung bình:\n",
      "[ 11.           5.66666667 216.66666667]\n",
      "Ma trận trung bình:\n",
      "[ 10.33333333   5.66666667 323.33333333]\n",
      "Ma trận trung bình:\n",
      "[ 10.33333333   6.         550.        ]\n"
     ]
    }
   ],
   "source": [
    "# Tính giá trị trung bình của ba ma trận\n",
    "print(arr[8])\n",
    "average_matrix = average_of_matrices(arr[0], arr[5] , arr[8])\n",
    "average_matrix2 = average_of_matrices(arr[1], arr[4] , arr[7])\n",
    "average_matrix3 = average_of_matrices(arr[2], arr[3] , arr[6])\n",
    "print(\"Ma trận trung bình:\")\n",
    "print(average_matrix)\n",
    "print(\"Ma trận trung bình:\")\n",
    "print(average_matrix2)\n",
    "print(\"Ma trận trung bình:\")\n",
    "print(average_matrix3)"
   ]
  },
  {
   "cell_type": "code",
   "execution_count": 76,
   "metadata": {},
   "outputs": [
    {
     "name": "stdout",
     "output_type": "stream",
     "text": [
      "[  8   4 200]\n",
      "Khoảng cách Euclide: 17.02\n",
      "[  8   6 350]\n",
      "Khoảng cách Euclide: 133.36\n",
      "[  9   7 650]\n",
      "Khoảng cách Euclide: 433.34\n",
      "[ 10   5 400]\n",
      "Khoảng cách Euclide: 183.33\n",
      "[ 11   4 320]\n",
      "Khoảng cách Euclide: 103.34\n",
      "[ 11   8 250]\n",
      "Khoảng cách Euclide: 33.41\n",
      "[ 12   6 600]\n",
      "Khoảng cách Euclide: 383.33\n",
      "[ 12   7 300]\n",
      "Khoảng cách Euclide: 83.35\n",
      "[ 14   5 200]\n",
      "Khoảng cách Euclide: 16.95\n"
     ]
    }
   ],
   "source": [
    "# Ví dụ: Tính khoảng cách Euclide giữa hai điểm trong không gian ba chiều\n",
    "point1 = np.array([11, 5.67, 216.67])\n",
    "point2 = np.array([10.33333333,   5.66666667, 323.33333333])\n",
    "point3 = np.array([10.33333333,  6.,  550.])\n",
    "\n",
    "arr = np.array([[8, 4, 200], [8, 6, 350], [9, 7, 650], [10, 5, 400], [\n",
    "    11, 4, 320], [11, 8, 250], [12, 6, 600], [12, 7, 300], [14, 5, 200]])\n",
    "for i in arr:\n",
    "    print(i)\n",
    "    \n",
    "    distance = euclidean_distance(i, point1)\n",
    "    distance = \"{:.2f}\".format(distance)\n",
    "    print(\"Khoảng cách Euclide:\", distance)\n"
   ]
  },
  {
   "cell_type": "code",
   "execution_count": 85,
   "metadata": {},
   "outputs": [
    {
     "name": "stdout",
     "output_type": "stream",
     "text": [
      "Ma trận trung bình:\n",
      "[ 11.           5.66666667 216.66666667]\n",
      "Ma trận trung bình:\n",
      "[ 10.25   5.5  342.5 ]\n",
      "Ma trận trung bình:\n",
      "[ 10.5   6.5 625. ]\n"
     ]
    }
   ],
   "source": [
    "# Tính giá trị trung bình của ba ma trận\n",
    "arrnull = np.array([0,0,0])\n",
    "average_matrix = (arr[0] + arr[5] + arr[8])/3\n",
    "average_matrix2 = (arr[1]+ arr[3]+ arr[4] + arr[7])/4\n",
    "average_matrix3 = (arr[2] + arr[6])/2\n",
    "print(\"Ma trận trung bình:\")\n",
    "print(average_matrix)\n",
    "print(\"Ma trận trung bình:\")\n",
    "print(average_matrix2)\n",
    "print(\"Ma trận trung bình:\")\n",
    "print(average_matrix3)"
   ]
  },
  {
   "cell_type": "code",
   "execution_count": 175,
   "metadata": {},
   "outputs": [
    {
     "name": "stdout",
     "output_type": "stream",
     "text": [
      "[  8   4 200]\n",
      "Khoảng cách Euclide: 425.01\n",
      "[  8   6 350]\n",
      "Khoảng cách Euclide: 275.01\n",
      "[  9   7 650]\n",
      "Khoảng cách Euclide: 25.05\n",
      "[ 10   5 400]\n",
      "Khoảng cách Euclide: 225.01\n",
      "[ 11   4 320]\n",
      "Khoảng cách Euclide: 305.01\n",
      "[ 11   8 250]\n",
      "Khoảng cách Euclide: 375.00\n",
      "[ 12   6 600]\n",
      "Khoảng cách Euclide: 25.05\n",
      "[ 12   7 300]\n",
      "Khoảng cách Euclide: 325.00\n",
      "[ 14   5 200]\n",
      "Khoảng cách Euclide: 425.02\n",
      "[ 11   6 450]\n",
      "Khoảng cách Euclide: 175.00\n"
     ]
    }
   ],
   "source": [
    "# Ví dụ: Tính khoảng cách Euclide giữa hai điểm trong không gian ba chiều\n",
    "point1 = np.array([11. ,          5.66666667, 216.66666667])\n",
    "point2 = np.array([10.25 ,  5.5 , 342.5])\n",
    "point3 = np.array([10.5  , 6.5 ,625.])\n",
    "\n",
    "arr = np.array([[8, 4, 200], [8, 6, 350], [9, 7, 650], [10, 5, 400], [\n",
    "    11, 4, 320], [11, 8, 250], [12, 6, 600], [12, 7, 300], [14, 5, 200],[11,6,450]])\n",
    "for i in arr:\n",
    "    print(i)\n",
    "\n",
    "    distance = euclidean_distance(i, point3)\n",
    "    distance = \"{:.2f}\".format(distance)\n",
    "    print(\"Khoảng cách Euclide:\", distance)\n"
   ]
  },
  {
   "cell_type": "code",
   "execution_count": 120,
   "metadata": {},
   "outputs": [],
   "source": [
    "def initialize_weights(input_dim, num_neurons):\n",
    "    weights = np.random.random((num_neurons, input_dim))*100\n",
    "    return weights"
   ]
  },
  {
   "cell_type": "code",
   "execution_count": 121,
   "metadata": {},
   "outputs": [],
   "source": [
    "arr2 = np.array([[16,124,19],[6,13,70],[10,22,59], [5,81,92],[21,97,23], [7,94,88] ])"
   ]
  },
  {
   "cell_type": "code",
   "execution_count": 122,
   "metadata": {},
   "outputs": [
    {
     "name": "stdout",
     "output_type": "stream",
     "text": [
      "3\n"
     ]
    }
   ],
   "source": [
    "print(arr.shape[1])"
   ]
  },
  {
   "cell_type": "code",
   "execution_count": 123,
   "metadata": {},
   "outputs": [
    {
     "name": "stdout",
     "output_type": "stream",
     "text": [
      "[[68.05460087  4.44005401 56.33157417]\n",
      " [19.02598644 55.10999301  5.4819446 ]\n",
      " [57.55191513 41.94747306 56.63958675]]\n"
     ]
    }
   ],
   "source": [
    "vector = initialize_weights(arr.shape[1], 3)\n",
    "print(vector)"
   ]
  },
  {
   "cell_type": "code",
   "execution_count": 157,
   "metadata": {},
   "outputs": [
    {
     "data": {
      "text/plain": [
       "291.32"
      ]
     },
     "execution_count": 157,
     "metadata": {},
     "output_type": "execute_result"
    }
   ],
   "source": [
    "17.92+0.8* (350-56.6)"
   ]
  },
  {
   "cell_type": "code",
   "execution_count": 162,
   "metadata": {},
   "outputs": [
    {
     "name": "stdout",
     "output_type": "stream",
     "text": [
      "[  8   4 200]\n",
      "Khoảng cách Euclide: 156.42\n",
      "[  8   6 350]\n",
      "Khoảng cách Euclide: 299.73\n",
      "[  9   7 650]\n",
      "Khoảng cách Euclide: 596.41\n",
      "[ 10   5 400]\n",
      "Khoảng cách Euclide: 348.65\n",
      "[ 11   4 320]\n",
      "Khoảng cách Euclide: 270.18\n",
      "[ 11   8 250]\n",
      "Khoảng cách Euclide: 201.82\n",
      "[ 12   6 600]\n",
      "Khoảng cách Euclide: 546.50\n",
      "[ 12   7 300]\n",
      "Khoảng cách Euclide: 250.10\n",
      "[ 14   5 200]\n",
      "Khoảng cách Euclide: 154.38\n"
     ]
    }
   ],
   "source": [
    "p1 = [68.1,4.4,56.3]\n",
    "p2 = [19,55.1,5.5 ]\n",
    "p3 = [57.6,42,56.6]\n",
    "\n",
    "for i in arr:\n",
    "    print(i)\n",
    "    \n",
    "    distance = euclidean_distance(i, p3)\n",
    "    distance = \"{:.2f}\".format(distance)\n",
    "    print(\"Khoảng cách Euclide:\", distance)"
   ]
  },
  {
   "cell_type": "code",
   "execution_count": 131,
   "metadata": {},
   "outputs": [
    {
     "data": {
      "text/plain": [
       "171.26"
      ]
     },
     "execution_count": 131,
     "metadata": {},
     "output_type": "execute_result"
    }
   ],
   "source": [
    "# 68.1+ 0.8 *(8-68.1)\n",
    "56.3+0.8*(200-56.3)"
   ]
  },
  {
   "cell_type": "code",
   "execution_count": 163,
   "metadata": {},
   "outputs": [
    {
     "name": "stdout",
     "output_type": "stream",
     "text": [
      "Vector trọng số:\n",
      "[[ 19.         111.          21.5       ]\n",
      " [ 12.27453976   5.86217704 258.23171535]\n",
      " [ 10.8747903    6.37458163 618.67403072]]\n"
     ]
    }
   ],
   "source": [
    "def initialize_weights(input_dim, num_neurons):\n",
    "    weights = np.random.random((num_neurons, input_dim))\n",
    "    return weights\n",
    "\n",
    "# Hàm tìm nơ-ron chiến thắng\n",
    "def find_winner_neuron(sample, weights):\n",
    "    distances = np.linalg.norm(weights - sample, axis=1)\n",
    "    winner_neuron = np.argmin(distances)\n",
    "    return winner_neuron\n",
    "\n",
    "# Dữ liệu đầu vào\n",
    "# data = np.array([[1, 2], [2, 1], [1, 3], [3, 2], [5, 4], [4, 5]])\n",
    "\n",
    "# Số lượng neuron\n",
    "num_neurons = 3\n",
    "\n",
    "# Khởi tạo vector trọng số\n",
    "input_dim = arr.shape[1]\n",
    "# weights = initialize_weights(input_dim, num_neurons)\n",
    "# weights = [[68.1,4.4,56.3], [19,55.1,5.5],[57.6,42,56.6]]\n",
    "weights = np.array([[19,111,21.5], [6.5,88,90.5],[8.5,18,65]])\n",
    "\n",
    "# Huấn luyện mạng Kohonen\n",
    "epochs = 10\n",
    "learning_rate = 0.4\n",
    "\n",
    "for epoch in range(epochs):\n",
    "    for sample in arr:\n",
    "        # Tìm nơ-ron chiến thắng\n",
    "        winner_neuron = find_winner_neuron(sample, weights)\n",
    "\n",
    "        # Cập nhật vector trọng số\n",
    "        weights[winner_neuron] += learning_rate * (sample - weights[winner_neuron])\n",
    "\n",
    "# In ra vector trọng số của các nơ-ron\n",
    "print(\"Vector trọng số:\")\n",
    "print(weights)\n"
   ]
  },
  {
   "cell_type": "code",
   "execution_count": 147,
   "metadata": {},
   "outputs": [
    {
     "ename": "ValueError",
     "evalue": "operands could not be broadcast together with shapes (4,1) (3,3) ",
     "output_type": "error",
     "traceback": [
      "\u001b[1;31m---------------------------------------------------------------------------\u001b[0m",
      "\u001b[1;31mValueError\u001b[0m                                Traceback (most recent call last)",
      "Cell \u001b[1;32mIn[147], line 42\u001b[0m\n\u001b[0;32m     39\u001b[0m     influence \u001b[39m=\u001b[39m np\u001b[39m.\u001b[39mexp(\u001b[39m-\u001b[39m(distances \u001b[39m*\u001b[39m\u001b[39m*\u001b[39m \u001b[39m2\u001b[39m) \u001b[39m/\u001b[39m (\u001b[39m2\u001b[39m \u001b[39m*\u001b[39m sigma \u001b[39m*\u001b[39m\u001b[39m*\u001b[39m \u001b[39m2\u001b[39m))\n\u001b[0;32m     41\u001b[0m     \u001b[39m# Cập nhật vector trọng số của nơ-ron chiến thắng và các nơ-ron lân cận\u001b[39;00m\n\u001b[1;32m---> 42\u001b[0m     weights \u001b[39m+\u001b[39m\u001b[39m=\u001b[39m learning_rate \u001b[39m*\u001b[39;49m influence[:, np\u001b[39m.\u001b[39;49mnewaxis] \u001b[39m*\u001b[39;49m (sample \u001b[39m-\u001b[39;49m weights)\n\u001b[0;32m     44\u001b[0m \u001b[39m# Giảm giá trị sigma sau mỗi epoch\u001b[39;00m\n\u001b[0;32m     45\u001b[0m sigma \u001b[39m*\u001b[39m\u001b[39m=\u001b[39m \u001b[39m0.9\u001b[39m\n",
      "\u001b[1;31mValueError\u001b[0m: operands could not be broadcast together with shapes (4,1) (3,3) "
     ]
    }
   ],
   "source": [
    "# Hàm khởi tạo vector trọng số\n",
    "def initialize_weights(input_dim, num_neurons):\n",
    "    weights = np.random.random((num_neurons, input_dim))\n",
    "    return weights\n",
    "\n",
    "# Hàm tìm nơ-ron chiến thắng\n",
    "def find_winner_neuron(sample, weights):\n",
    "    distances = np.linalg.norm(weights - sample, axis=1)\n",
    "    winner_neuron = np.argmin(distances)\n",
    "    return winner_neuron\n",
    "\n",
    "# Dữ liệu đầu vào\n",
    "data = arr\n",
    "\n",
    "# Số lượng neuron\n",
    "num_neurons = 3\n",
    "\n",
    "# Kích thước lưới Kohonen (chọn sao cho lớn hơn số lượng neuron)\n",
    "grid_size = (2, 2)\n",
    "\n",
    "# Khởi tạo vector trọng số\n",
    "input_dim = data.shape[1]\n",
    "weights = np.array([[19,111,21.5], [6.5,88,90.5],[8.5,18,65]])\n",
    "\n",
    "# Huấn luyện mạng Kohonen\n",
    "epochs = 10\n",
    "learning_rate = 0.8\n",
    "sigma = grid_size[0] / 2  # Độ rộng của vùng lân cận\n",
    "\n",
    "for epoch in range(epochs):\n",
    "    for sample in data:\n",
    "        # Tìm nơ-ron chiến thắng\n",
    "        winner_neuron = find_winner_neuron(sample, weights)\n",
    "\n",
    "        # Tính toán khoảng cách từ nơ-ron chiến thắng đến các nơ-ron khác\n",
    "        distances = np.linalg.norm(np.indices(grid_size).T.reshape(-1, 2) - np.unravel_index(winner_neuron, grid_size), axis=1)\n",
    "\n",
    "        # Tính toán hệ số ảnh hưởng (influence) của mỗi nơ-ron\n",
    "        influence = np.exp(-(distances ** 2) / (2 * sigma ** 2))\n",
    "\n",
    "        # Cập nhật vector trọng số của nơ-ron chiến thắng và các nơ-ron lân cận\n",
    "        weights += learning_rate * influence[:, np.newaxis] * (sample - weights)\n",
    "\n",
    "    # Giảm giá trị sigma sau mỗi epoch\n",
    "    sigma *= 0.9\n",
    "\n",
    "# In ra vector trọng số của các nơ-ron\n",
    "print(\"Vector trọng số:\")\n",
    "print(weights)"
   ]
  },
  {
   "cell_type": "code",
   "execution_count": 182,
   "metadata": {},
   "outputs": [
    {
     "name": "stdout",
     "output_type": "stream",
     "text": [
      "[1 0 1 1 1]\n",
      "Khoảng cách Euclide: 1.44\n",
      "[1 0 1 0 1]\n",
      "Khoảng cách Euclide: 1.49\n",
      "[0 0 1 1 1]\n",
      "Khoảng cách Euclide: 1.29\n",
      "[1 0 0 1 0]\n",
      "Khoảng cách Euclide: 1.10\n",
      "[0 1 0 1 0]\n",
      "Khoảng cách Euclide: 0.81\n",
      "[0 1 0 0 1]\n",
      "Khoảng cách Euclide: 0.97\n",
      "[0 0 0 0 0]\n",
      "Khoảng cách Euclide: 0.97\n",
      "[1 1 1 0 1]\n",
      "Khoảng cách Euclide: 1.44\n",
      "[0 1 0 1 0]\n",
      "Khoảng cách Euclide: 0.81\n",
      "[1 0 1 0 0]\n",
      "Khoảng cách Euclide: 1.44\n"
     ]
    }
   ],
   "source": [
    "# arr = np.array([[8, 4, 200], [8, 6, 350], [9, 7, 650], [10, 5, 400], [\n",
    "#     11, 4, 320], [11, 8, 250], [12, 6, 600], [12, 7, 300], [14, 5, 200]])\n",
    "\n",
    "arr3 = np.array([[1, 0, 1, 1, 1], [1, 0, 1, 0, 1], [\n",
    "    0, 0, 1, 1, 1], [1, 0, 0, 1, 0], [0, 1, 0, 1, 0], [0, 1, 0, 0, 1], [0, 0, 0, 0, 0], [1, 1, 1, 0, 1], [0, 1, 0, 1, 0],[1,0,1,0,0]])\n",
    "p1 = [1, 0, 1, 1, 1]\n",
    "p2 = [1, 0, 1, 0, 1]\n",
    "p3 = [0.29, 0.57, 0.14, 0.57, 0.43]\n",
    "for i in arr3:\n",
    "    print(i)\n",
    "\n",
    "    distance = euclidean_distance(i, p3)\n",
    "    distance = \"{:.2f}\".format(distance)\n",
    "    print(\"Khoảng cách Euclide:\", distance)\n"
   ]
  },
  {
   "cell_type": "code",
   "execution_count": 169,
   "metadata": {},
   "outputs": [
    {
     "name": "stdout",
     "output_type": "stream",
     "text": [
      "Ma trận trung bình:\n",
      "[0.5 0.  1.  1.  1. ]\n",
      "Ma trận trung bình:\n",
      "[1.  0.5 1.  0.  1. ]\n",
      "Ma trận trung bình:\n",
      "[0.2 0.6 0.  0.6 0.2]\n"
     ]
    }
   ],
   "source": [
    "# Tính giá trị trung bình của ba ma trận\n",
    "# arrnull = np.array([0,0,0])\n",
    "average_matrix = (arr3[0] + arr3[2])/2\n",
    "average_matrix2 = (arr3[1]+  arr3[7])/2\n",
    "average_matrix3 = (arr3[3] + arr3[4] + arr3[5] + arr3[6] + arr3[8])/5\n",
    "print(\"Ma trận trung bình:\")\n",
    "print(average_matrix)\n",
    "print(\"Ma trận trung bình:\")\n",
    "print(average_matrix2)\n",
    "print(\"Ma trận trung bình:\")\n",
    "print(average_matrix3)"
   ]
  },
  {
   "cell_type": "code",
   "execution_count": 173,
   "metadata": {},
   "outputs": [
    {
     "name": "stdout",
     "output_type": "stream",
     "text": [
      "[1 0 1 1 1]\n",
      "Khoảng cách Euclide: 1.12\n",
      "[1 0 1 0 1]\n",
      "Khoảng cách Euclide: 0.50\n",
      "[0 0 1 1 1]\n",
      "Khoảng cách Euclide: 1.50\n",
      "[1 0 0 1 0]\n",
      "Khoảng cách Euclide: 1.80\n",
      "[0 1 0 1 0]\n",
      "Khoảng cách Euclide: 2.06\n",
      "[0 1 0 0 1]\n",
      "Khoảng cách Euclide: 1.50\n",
      "[0 0 0 0 0]\n",
      "Khoảng cách Euclide: 1.80\n",
      "[1 1 1 0 1]\n",
      "Khoảng cách Euclide: 0.50\n",
      "[0 1 0 1 0]\n",
      "Khoảng cách Euclide: 2.06\n"
     ]
    }
   ],
   "source": [
    "arr3 = np.array([[1, 0, 1, 1, 1], [1, 0, 1, 0, 1], [\n",
    "    0, 0, 1, 1, 1], [1, 0, 0, 1, 0], [0, 1, 0, 1, 0], [0, 1, 0, 0, 1], [0, 0, 0, 0, 0], [1, 1, 1, 0, 1], [0, 1, 0, 1, 0]])\n",
    "p1 = [0.5, 0, 1, 1, 1]\n",
    "p2 = [1, 0.5, 1, 0, 1]\n",
    "p3 = [0.2, 0.6, 0, 0.6, 0.2]\n",
    "for i in arr3:\n",
    "    print(i)\n",
    "\n",
    "    distance = euclidean_distance(i, p2)\n",
    "    distance = \"{:.2f}\".format(distance)\n",
    "    print(\"Khoảng cách Euclide:\", distance)"
   ]
  },
  {
   "cell_type": "code",
   "execution_count": 6,
   "metadata": {},
   "outputs": [
    {
     "name": "stdout",
     "output_type": "stream",
     "text": [
      "[ 2 10]\n",
      "Khoảng cách Euclide: 6.26\n",
      "[2 5]\n",
      "Khoảng cách Euclide: 3.20\n",
      "[8 4]\n",
      "Khoảng cách Euclide: 2.89\n",
      "[5 8]\n",
      "Khoảng cách Euclide: 3.40\n",
      "[7 5]\n",
      "Khoảng cách Euclide: 1.87\n",
      "[6 4]\n",
      "Khoảng cách Euclide: 1.02\n",
      "[1 2]\n",
      "Khoảng cách Euclide: 4.91\n",
      "[4 9]\n",
      "Khoảng cách Euclide: 4.55\n"
     ]
    }
   ],
   "source": [
    "# Ví dụ: Tính khoảng cách Euclide giữa hai điểm trong không gian ba chiều\n",
    "point1 = np.array([2,10])\n",
    "point2 = np.array([2,5])\n",
    "point3 = np.array([5.17,4.6])\n",
    "\n",
    "arr = np.array([[2,10], [2,5], [8,4], [5,8], [7,5], [6,4], [1,2], [4,9]])\n",
    "for i in arr:\n",
    "    print(i)\n",
    "\n",
    "    distance = euclidean_distance(i, point3)\n",
    "    distance = \"{:.2f}\".format(distance)\n",
    "    print(\"Khoảng cách Euclide:\", distance)"
   ]
  },
  {
   "cell_type": "code",
   "execution_count": null,
   "metadata": {},
   "outputs": [],
   "source": [
    "point1 = np.array([2,10])\n",
    "point2 = np.array([2,5])\n",
    "point3 = np.array([5.17,4.6])\n",
    "\n",
    "arr = np.array([[2,10], [2,5], [8,4], [5,8], [7,5], [6,4], [1,2], [4,9]])\n",
    "for i in arr:\n",
    "    print(i)\n",
    "\n",
    "    distance = euclidean_distance(i, point1)\n",
    "    distance = \"{:.2f}\".format(distance)\n",
    "    print(\"Khoảng cách Euclide:\", distance)"
   ]
  },
  {
   "cell_type": "code",
   "execution_count": 19,
   "metadata": {},
   "outputs": [],
   "source": [
    "def avg2(x1,y1, x2, y2):\n",
    "    print((x1+x2)/2)\n",
    "    print((y1+y2)/2)"
   ]
  },
  {
   "cell_type": "code",
   "execution_count": 20,
   "metadata": {},
   "outputs": [],
   "source": [
    "def avg3(x1,y1, x2, y2,x3,y3):\n",
    "    print((x1+x2+x3)/3)\n",
    "    print((y1+y2+y3)/3)"
   ]
  },
  {
   "cell_type": "code",
   "execution_count": 21,
   "metadata": {},
   "outputs": [],
   "source": [
    "def avg4(x1,y1, x2, y2,x3,y3,x4,y4):\n",
    "    print((x1+x2 +x3+x4)/4)\n",
    "    print((y1+y2+y3+y4)/4)"
   ]
  },
  {
   "cell_type": "code",
   "execution_count": 24,
   "metadata": {},
   "outputs": [
    {
     "name": "stdout",
     "output_type": "stream",
     "text": [
      "6.5\n",
      "5.25\n"
     ]
    }
   ],
   "source": [
    "avg4(8,4,5,8,7,5,6,4)\n",
    "# avg2(2,5,1,2)"
   ]
  },
  {
   "cell_type": "code",
   "execution_count": 9,
   "metadata": {},
   "outputs": [
    {
     "name": "stdout",
     "output_type": "stream",
     "text": [
      "[ 2 10]\n",
      "Khoảng cách Euclide: 6.54\n",
      "[2 5]\n",
      "Khoảng cách Euclide: 4.51\n",
      "[8 4]\n",
      "Khoảng cách Euclide: 1.95\n",
      "[5 8]\n",
      "Khoảng cách Euclide: 3.13\n",
      "[7 5]\n",
      "Khoảng cách Euclide: 0.56\n",
      "[6 4]\n",
      "Khoảng cách Euclide: 1.35\n",
      "[1 2]\n",
      "Khoảng cách Euclide: 6.39\n",
      "[4 9]\n",
      "Khoảng cách Euclide: 4.51\n"
     ]
    }
   ],
   "source": [
    "point1 = np.array([3, 9.5])\n",
    "point2 = np.array([1.5,3.5])\n",
    "point3 = np.array([6.5,5.25])\n",
    "\n",
    "arr = np.array([[2,10], [2,5], [8,4], [5,8], [7,5], [6,4], [1,2], [4,9]])\n",
    "for i in arr:\n",
    "    print(i)\n",
    "\n",
    "    distance = euclidean_distance(i, point3)\n",
    "    distance = \"{:.2f}\".format(distance)\n",
    "    print(\"Khoảng cách Euclide:\", distance)"
   ]
  },
  {
   "cell_type": "code",
   "execution_count": 31,
   "metadata": {},
   "outputs": [
    {
     "name": "stdout",
     "output_type": "stream",
     "text": [
      "7.0\n",
      "4.333333333333333\n"
     ]
    }
   ],
   "source": [
    "avg3(8,4,7,5,6,4)"
   ]
  },
  {
   "cell_type": "code",
   "execution_count": 35,
   "metadata": {},
   "outputs": [
    {
     "name": "stdout",
     "output_type": "stream",
     "text": [
      "[ 2 10]\n",
      "Khoảng cách Euclide: 7.56\n",
      "[2 5]\n",
      "Khoảng cách Euclide: 5.04\n",
      "[8 4]\n",
      "Khoảng cách Euclide: 1.05\n",
      "[5 8]\n",
      "Khoảng cách Euclide: 4.18\n",
      "[7 5]\n",
      "Khoảng cách Euclide: 0.67\n",
      "[6 4]\n",
      "Khoảng cách Euclide: 1.05\n",
      "[1 2]\n",
      "Khoảng cách Euclide: 6.44\n",
      "[4 9]\n",
      "Khoảng cách Euclide: 5.55\n"
     ]
    }
   ],
   "source": [
    "point1 = np.array([3.66 ,9])\n",
    "point2 = np.array([1.5,3.5])\n",
    "point3 = np.array([7,4.33])\n",
    "\n",
    "arr = np.array([[2,10], [2,5], [8,4], [5,8], [7,5], [6,4], [1,2], [4,9]])\n",
    "for i in arr:\n",
    "    print(i)\n",
    "\n",
    "    distance = euclidean_distance(i, point3)\n",
    "    distance = \"{:.2f}\".format(distance)\n",
    "    print(\"Khoảng cách Euclide:\", distance)"
   ]
  },
  {
   "cell_type": "code",
   "execution_count": 6,
   "metadata": {},
   "outputs": [
    {
     "name": "stdout",
     "output_type": "stream",
     "text": [
      "[ 2 10]\n",
      "Khoảng cách Euclide: 5.64\n",
      "[2 5]\n",
      "Khoảng cách Euclide: 3.19\n",
      "[8 4]\n",
      "Khoảng cách Euclide: 3.13\n",
      "[5 8]\n",
      "Khoảng cách Euclide: 2.68\n",
      "[7 5]\n",
      "Khoảng cách Euclide: 1.86\n",
      "[6 4]\n",
      "Khoảng cách Euclide: 1.57\n",
      "[1 2]\n",
      "Khoảng cách Euclide: 5.34\n",
      "[4 9]\n",
      "Khoảng cách Euclide: 3.85\n"
     ]
    }
   ],
   "source": [
    "point1 = np.array([2 ,10])\n",
    "point2 = np.array([2, 5])\n",
    "point3 = np.array([5.17, 5.33])\n",
    "\n",
    "arr = np.array([[2,10], [2,5], [8,4], [5,8], [7,5], [6,4], [1,2], [4,9]])\n",
    "for i in arr:\n",
    "    print(i)\n",
    "\n",
    "    distance = euclidean_distance(i, point3)\n",
    "    distance = \"{:.2f}\".format(distance)\n",
    "    print(\"Khoảng cách Euclide:\", distance)"
   ]
  }
 ],
 "metadata": {
  "kernelspec": {
   "display_name": "Python 3",
   "language": "python",
   "name": "python3"
  },
  "language_info": {
   "codemirror_mode": {
    "name": "ipython",
    "version": 3
   },
   "file_extension": ".py",
   "mimetype": "text/x-python",
   "name": "python",
   "nbconvert_exporter": "python",
   "pygments_lexer": "ipython3",
   "version": "3.11.3"
  },
  "orig_nbformat": 4,
  "vscode": {
   "interpreter": {
    "hash": "decd1699b2be377360eface92fdc4ac784aa32c0bba5c6f69ab064b931a355be"
   }
  }
 },
 "nbformat": 4,
 "nbformat_minor": 2
}
